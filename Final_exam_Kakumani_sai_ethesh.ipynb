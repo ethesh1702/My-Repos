{
  "nbformat": 4,
  "nbformat_minor": 0,
  "metadata": {
    "colab": {
      "provenance": [],
      "authorship_tag": "ABX9TyMOeJiCYSN6S0n+LmlWeKec"
    },
    "kernelspec": {
      "name": "python3",
      "display_name": "Python 3"
    },
    "language_info": {
      "name": "python"
    }
  },
  "cells": [
    {
      "cell_type": "code",
      "execution_count": 2,
      "metadata": {
        "id": "RJ8A2AE0dCpj",
        "colab": {
          "base_uri": "https://localhost:8080/"
        },
        "outputId": "e61a26f2-f63a-4518-9337-b7015abe25e0"
      },
      "outputs": [
        {
          "output_type": "stream",
          "name": "stdout",
          "text": [
            "The square of 1 is 1\n",
            "The square of 2 is 4\n",
            "The square of 3 is 9\n",
            "The square of 4 is 16\n",
            "The square of 5 is 25\n",
            "The square of 6 is 36\n",
            "The square of 7 is 49\n",
            "The square of 8 is 64\n",
            "The square of 9 is 81\n"
          ]
        }
      ],
      "source": [
        "#Task 1 for loop to print the square of numbers\n",
        "for i in range(1, 10):\n",
        "    square = i * i #calculate the square of the current number (i * i)\n",
        "    print(f\"The square of {i} is {square}\")\n"
      ]
    },
    {
      "cell_type": "code",
      "source": [
        "#Task 2\n",
        "def check_grades(grades):\n",
        "    for g in grades: # loop through grades\n",
        "        print(\"Pass\" if g >= 81 else \"Try again\")\n",
        "check_grades([90, 80, 85, 70])"
      ],
      "metadata": {
        "colab": {
          "base_uri": "https://localhost:8080/"
        },
        "id": "GAy0wmgINiYm",
        "outputId": "79aae8a0-853f-4e3e-b163-b07430c5c685"
      },
      "execution_count": 3,
      "outputs": [
        {
          "output_type": "stream",
          "name": "stdout",
          "text": [
            "Pass\n",
            "Try again\n",
            "Pass\n",
            "Try again\n"
          ]
        }
      ]
    },
    {
      "cell_type": "code",
      "source": [
        "#Task 3\n",
        "def count_vowels(text):\n",
        "    text = text.lower() # using this lower fun()the text will be lower case even it's in capital\n",
        "    vowels = {'a':0, 'e':0, 'i':0, 'o':0, 'u':0}\n",
        "    for char in text:  #for each character, it checks if the character is a vowel by looking it up in the vowels dictionary.\n",
        "        if char in vowels:\n",
        "            vowels[char] += 1 #if it is a vowel, it increments the corresponding count in the vowels dictionary\n",
        "    print(f\"Total vowels: {sum(vowels.values())}\")\n",
        "    for v, count in vowels.items():\n",
        "        print(f\"{v}: {count}\")\n",
        "count_vowels(\"Bonjour!\")"
      ],
      "metadata": {
        "colab": {
          "base_uri": "https://localhost:8080/"
        },
        "id": "UbbnyfQTPA0j",
        "outputId": "13d232da-5636-4e94-8767-5aa03a6ce933"
      },
      "execution_count": 7,
      "outputs": [
        {
          "output_type": "stream",
          "name": "stdout",
          "text": [
            "Total vowels: 3\n",
            "a: 0\n",
            "e: 0\n",
            "i: 0\n",
            "o: 2\n",
            "u: 1\n"
          ]
        }
      ]
    },
    {
      "cell_type": "code",
      "source": [
        "#Task 4\n",
        "numbers = []\n",
        "print(\"Enter numbers one by one. Press Enter to stop:\")\n",
        "\n",
        "while True:\n",
        "    user_input = input(\"> \")\n",
        "    if user_input == \"\":\n",
        "        break  # stop if user presses Enter\n",
        "    numbers.append(float(user_input))  # convert input to number\n",
        "print(\"\\nCollected numbers:\", numbers)\n",
        "print(\"Total entries:\", len(numbers))\n",
        "print(\"Average:\", sum(numbers) / len(numbers) if numbers else 0)"
      ],
      "metadata": {
        "colab": {
          "base_uri": "https://localhost:8080/"
        },
        "id": "WXRHMUCEYbg7",
        "outputId": "cfde415d-b4ad-4601-cb8d-d076e272b6bd"
      },
      "execution_count": 11,
      "outputs": [
        {
          "output_type": "stream",
          "name": "stdout",
          "text": [
            "Enter numbers one by one. Press Enter to stop:\n",
            "> 43\n",
            "> 54\n",
            "> 67\n",
            "> 78\n",
            "> \n",
            "\n",
            "Collected numbers: [43.0, 54.0, 67.0, 78.0]\n",
            "Total entries: 4\n",
            "Average: 60.5\n"
          ]
        }
      ]
    },
    {
      "cell_type": "code",
      "source": [
        "#task 5\n",
        "purchases = [('Alice', 100), ('Bob', 50), ('Alice', 30), ('Bob', 20), ('Clara', 200), ('Clara',300)]\n",
        "\n",
        "customer_totals = {} # dictionary to store total purchases per customer\n",
        "\n",
        "for name, amount in purchases: # Calculate totals\n",
        "    if name in customer_totals:\n",
        "        customer_totals[name] += amount\n",
        "    else:\n",
        "        customer_totals[name] = amount\n",
        "\n",
        "print(\"Total purchases per customer:\")\n",
        "for customer, total in customer_totals.items():\n",
        "    print(f\"{customer}: ${total}\")"
      ],
      "metadata": {
        "colab": {
          "base_uri": "https://localhost:8080/"
        },
        "id": "dUmqwmskb8Cy",
        "outputId": "c76919d6-5eaf-4004-e561-1a8088771247"
      },
      "execution_count": 13,
      "outputs": [
        {
          "output_type": "stream",
          "name": "stdout",
          "text": [
            "Total purchases per customer:\n",
            "Alice: $130\n",
            "Bob: $70\n",
            "Clara: $500\n"
          ]
        }
      ]
    },
    {
      "cell_type": "code",
      "source": [
        "#Task 6\n",
        "\n",
        "import wbdata\n",
        "\n",
        "# setting up the parameters\n",
        "country = \"HR\"  # croatia's country code\n",
        "indicator = \"SP.POP.TOTL\"  # Population indicator\n",
        "years = (\"2010\", \"2020\")\n",
        "\n",
        "data = wbdata.get_data(indicator, country=country, date=years) # retrieving data\n",
        "\n",
        "print(\"Country\\tYear\\tPopulation\")\n",
        "for entry in data:\n",
        "    if entry['value'] is not None:\n",
        "        print(f\"Croatia\\t{entry['date']}\\t{int(float(entry['value'])):,}\")"
      ],
      "metadata": {
        "colab": {
          "base_uri": "https://localhost:8080/"
        },
        "id": "7YTPBTQrdFrJ",
        "outputId": "225f388f-9ce1-40c5-9458-4b2607f68719"
      },
      "execution_count": 19,
      "outputs": [
        {
          "output_type": "stream",
          "name": "stdout",
          "text": [
            "Country\tYear\tPopulation\n",
            "Croatia\t2020\t3,914,206\n",
            "Croatia\t2019\t3,949,390\n",
            "Croatia\t2018\t3,988,775\n",
            "Croatia\t2017\t4,041,407\n",
            "Croatia\t2016\t4,106,867\n",
            "Croatia\t2015\t4,151,725\n",
            "Croatia\t2014\t4,201,598\n",
            "Croatia\t2013\t4,233,922\n",
            "Croatia\t2012\t4,260,368\n",
            "Croatia\t2011\t4,280,622\n",
            "Croatia\t2010\t4,295,427\n"
          ]
        }
      ]
    }
  ]
}