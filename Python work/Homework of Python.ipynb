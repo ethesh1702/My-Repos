{
 "cells": [
  {
   "cell_type": "code",
   "execution_count": 24,
   "id": "5333ae4f-c129-4c09-9b82-30c575aa4250",
   "metadata": {},
   "outputs": [],
   "source": [
    "# Task 1: Write a function that takes an integer HOURS and converts it to SECONDS."
   ]
  },
  {
   "cell_type": "code",
   "execution_count": 14,
   "id": "8536fe59-d07b-4575-9334-75422e2f6136",
   "metadata": {},
   "outputs": [
    {
     "name": "stdout",
     "output_type": "stream",
     "text": [
      "7200\n"
     ]
    }
   ],
   "source": [
    "def hours_to_seconds(hours):\n",
    "    return hours*3600\n",
    "print(hours_to_seconds(2))    "
   ]
  },
  {
   "cell_type": "code",
   "execution_count": 20,
   "id": "f6b8f4b2-dc0e-43f9-b4ff-8bdda28e9db8",
   "metadata": {},
   "outputs": [],
   "source": [
    "# Task 2: Given a list of numbers, write a program to turn every item of a list into its square.    "
   ]
  },
  {
   "cell_type": "code",
   "execution_count": 22,
   "id": "37fe4286-f768-4a5f-bd7c-1002013cee73",
   "metadata": {},
   "outputs": [
    {
     "name": "stdout",
     "output_type": "stream",
     "text": [
      "[25, 49, 81, 100]\n"
     ]
    }
   ],
   "source": [
    "def square_list(numbers):\n",
    "    return [x**2 for x in numbers]\n",
    "print(square_list([5,7,9,10]))"
   ]
  },
  {
   "cell_type": "code",
   "execution_count": 26,
   "id": "2d21b871-230f-4235-a67a-10eb6c5d4a89",
   "metadata": {},
   "outputs": [],
   "source": [
    "# Task 3: Given two strings, s1 and s2. Write a program to create a new string s3 made of the first char of s1, then the last char of s2, Next, the second char of s1 and second last char of s2, and so on. Any leftover chars go at the end of the result."
   ]
  },
  {
   "cell_type": "code",
   "execution_count": 30,
   "id": "ac9d54c9-0ba2-4819-b97b-4418d050a032",
   "metadata": {},
   "outputs": [
    {
     "name": "stdout",
     "output_type": "stream",
     "text": [
      "1234567890\n"
     ]
    }
   ],
   "source": [
    "def merge_strings(s1, s2):\n",
    "    result = ''\n",
    "    i, j = 0, -1\n",
    "    while i < len(s1) and abs(j) <= len(s2):\n",
    "        result += s1[i]\n",
    "        result += s2[j]\n",
    "        i += 1\n",
    "        j -= 1\n",
    "    result += s1[i:] + s2[:j+1]  \n",
    "    return result\n",
    "print(merge_strings(\"13579\", \"08642\"))  \n"
   ]
  },
  {
   "cell_type": "code",
   "execution_count": 32,
   "id": "808007de-e2ec-401c-b575-d02cca039c3b",
   "metadata": {},
   "outputs": [],
   "source": [
    "# Task 4: Get the key of a minimum value from the given dictionary."
   ]
  },
  {
   "cell_type": "code",
   "execution_count": 34,
   "id": "566a622c-eddc-473b-a09b-92fca3bf4a33",
   "metadata": {},
   "outputs": [
    {
     "name": "stdout",
     "output_type": "stream",
     "text": [
      "c\n"
     ]
    }
   ],
   "source": [
    "def key_of_min_value(a):\n",
    "    return min(a, key=a.get)\n",
    "\n",
    "sample_dict = {'a': 4, 'b': 6, 'c': 2}\n",
    "print(key_of_min_value(sample_dict))  "
   ]
  },
  {
   "cell_type": "code",
   "execution_count": 36,
   "id": "f9762439-f9bd-4014-86d6-388b34689fb2",
   "metadata": {},
   "outputs": [],
   "source": [
    "# Task 5: Write a program to calculate the sum of series up to n term."
   ]
  },
  {
   "cell_type": "code",
   "execution_count": 52,
   "id": "debe55d9-1f3c-4a58-9c85-a47e42619fcf",
   "metadata": {},
   "outputs": [
    {
     "name": "stdout",
     "output_type": "stream",
     "text": [
      "Term 1: 1\n",
      "Term 2: 11\n",
      "Term 3: 111\n",
      "Term 4: 1111\n",
      "\n",
      "Sum of the series up to 4 terms is: 1234\n"
     ]
    }
   ],
   "source": [
    "def sum_series(b):\n",
    "    total = 0\n",
    "    num = 0\n",
    "    for i in range(b):\n",
    "        num = num * 10 + 1\n",
    "        total += num\n",
    "        print(f\"Term {i+1}: {num}\")\n",
    "    return total\n",
    "    \n",
    "b = 4\n",
    "result = sum_series(b)\n",
    "print(f\"\\nSum of the series up to {b} terms is: {result}\")"
   ]
  },
  {
   "cell_type": "code",
   "execution_count": 58,
   "id": "bebeb404-4188-4b10-ba41-dd834f024202",
   "metadata": {},
   "outputs": [],
   "source": [
    "# Task 6: Calculate multiplication of two random float numbers (generate random number first)"
   ]
  },
  {
   "cell_type": "code",
   "execution_count": 60,
   "id": "94b2ad57-96a8-4b30-a219-e1a5cf2a9726",
   "metadata": {},
   "outputs": [
    {
     "name": "stdout",
     "output_type": "stream",
     "text": [
      "Random Float 1: 8.85\n",
      "Random Float 2: 6.99\n",
      "Product: 61.87\n"
     ]
    }
   ],
   "source": [
    "import random\n",
    "def multiply_random_floats():\n",
    "    num1 = random.uniform(1.0, 10.0)\n",
    "    num2 = random.uniform(1.0, 10.0)\n",
    "\n",
    "    product = num1 * num2\n",
    "\n",
    "    print(f\"Random Float 1: {num1:.2f}\")\n",
    "    print(f\"Random Float 2: {num2:.2f}\")\n",
    "    print(f\"Product: {product:.2f}\")\n",
    "\n",
    "multiply_random_floats()\n"
   ]
  },
  {
   "cell_type": "code",
   "execution_count": null,
   "id": "0429f661-03ad-4056-b9a4-defd81592617",
   "metadata": {},
   "outputs": [],
   "source": []
  }
 ],
 "metadata": {
  "kernelspec": {
   "display_name": "Python 3 (ipykernel)",
   "language": "python",
   "name": "python3"
  },
  "language_info": {
   "codemirror_mode": {
    "name": "ipython",
    "version": 3
   },
   "file_extension": ".py",
   "mimetype": "text/x-python",
   "name": "python",
   "nbconvert_exporter": "python",
   "pygments_lexer": "ipython3",
   "version": "3.12.7"
  }
 },
 "nbformat": 4,
 "nbformat_minor": 5
}
