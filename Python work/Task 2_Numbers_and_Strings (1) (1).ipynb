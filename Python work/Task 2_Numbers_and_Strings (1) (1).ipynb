{
 "cells": [
  {
   "cell_type": "markdown",
   "metadata": {},
   "source": [
    "# Session 1\n",
    "- Happy learning!"
   ]
  },
  {
   "cell_type": "markdown",
   "metadata": {},
   "source": [
    "## Challenge 1 - Numbers"
   ]
  },
  {
   "cell_type": "markdown",
   "metadata": {},
   "source": [
    "### Take two numbers and compute the power (a^b) and modulus (a % b)."
   ]
  },
  {
   "cell_type": "code",
   "execution_count": 1,
   "metadata": {},
   "outputs": [
    {
     "name": "stdout",
     "output_type": "stream",
     "text": [
      "6\n",
      "2\n"
     ]
    }
   ],
   "source": [
    "# Your code here\n",
    "a=2\n",
    "b=4\n",
    "c=a^b\n",
    "d=a%b\n",
    "print(c)\n",
    "print(d)"
   ]
  },
  {
   "cell_type": "markdown",
   "metadata": {},
   "source": [
    "### Show the difference between // and / using user input."
   ]
  },
  {
   "cell_type": "code",
   "execution_count": 2,
   "metadata": {},
   "outputs": [
    {
     "name": "stdout",
     "output_type": "stream",
     "text": [
      "0\n",
      "0.5\n"
     ]
    }
   ],
   "source": [
    "# Your code here\n",
    "f=a/b\n",
    "e=a//b\n",
    "print(e)\n",
    "print(f)"
   ]
  },
  {
   "cell_type": "markdown",
   "metadata": {},
   "source": [
    "### Bitwise Operator Practice\n",
    "Use &, |, ^, ~, <<, and >> on two integers and display the results."
   ]
  },
  {
   "cell_type": "code",
   "execution_count": 3,
   "metadata": {},
   "outputs": [
    {
     "name": "stdout",
     "output_type": "stream",
     "text": [
      "2 & 4 = 0\n",
      "2 | 4 = 6\n",
      "2 ^ 4 = 6\n",
      "~2 = -3\n",
      "~4 = -5\n",
      "2 << 1 = 4\n",
      "4 << 2 = 16\n",
      "2 >> 1 = 1\n",
      "4 >> 1 = 2\n"
     ]
    }
   ],
   "source": [
    "# Your code here\n",
    "print(f\"{a} & {b} = {a & b}\")\n",
    "print(f\"{a} | {b} = {a | b}\")    \n",
    "\n",
    "# Bitwise XOR\n",
    "print(f\"{a} ^ {b} = {a ^ b}\")  \n",
    "\n",
    "# Bitwise NOT\n",
    "print(f\"~{a} = {~a}\")           \n",
    "print(f\"~{b} = {~b}\")            \n",
    "\n",
    "# Left shift\n",
    "print(f\"{a} << 1 = {a << 1}\")   \n",
    "print(f\"{b} << 2 = {b << 2}\")    \n",
    "\n",
    "# Right shift\n",
    "print(f\"{a} >> 1 = {a >> 1}\")    \n",
    "print(f\"{b} >> 1 = {b >> 1}\") "
   ]
  },
  {
   "cell_type": "markdown",
   "metadata": {},
   "source": [
    "### Round Up, Down, and Nearest Integer\n",
    "Use math.floor(), math.ceil(), and round() on a floating point number.\n",
    "\n"
   ]
  },
  {
   "cell_type": "code",
   "execution_count": 4,
   "metadata": {},
   "outputs": [
    {
     "name": "stdout",
     "output_type": "stream",
     "text": [
      "math.floor(7.65) = 7\n",
      "math.ceil(7.65) = 8\n",
      "round(7.65) = 8\n"
     ]
    }
   ],
   "source": [
    "# Your code here\n",
    "import math\n",
    "num = 7.65\n",
    "\n",
    "print(f\"math.floor({num}) = {math.floor(num)}\") \n",
    "print(f\"math.ceil({num}) = {math.ceil(num)}\") \n",
    "print(f\"round({num}) = {round(num)}\")   "
   ]
  },
  {
   "cell_type": "markdown",
   "metadata": {},
   "source": [
    "## Challenge 2 -  Strings\n",
    "\n",
    "Combining strings is an important skill to acquire. There are multiple ways of combining strings in Python, as well as combining strings with variables. "
   ]
  },
  {
   "cell_type": "markdown",
   "metadata": {},
   "source": [
    "### In the cell below, combine the strings in the list and add spaces between the strings (do not add a space after the last string). Insert a period after the last string."
   ]
  },
  {
   "cell_type": "code",
   "execution_count": 7,
   "metadata": {},
   "outputs": [
    {
     "data": {
      "text/plain": [
       "'Data are just summaries of thousands of stories — tell a few of those stories to help make the data meaningful .'"
      ]
     },
     "execution_count": 7,
     "metadata": {},
     "output_type": "execute_result"
    }
   ],
   "source": [
    "str_list = ['Data', 'are', 'just', 'summaries', 'of', 'thousands', 'of', 'stories', '—','tell', 'a', 'few', 'of', 'those', 'stories', 'to',  'help', 'make', 'the', 'data', 'meaningful','.']\n",
    "' '.join(str_list)\n"
   ]
  },
  {
   "cell_type": "markdown",
   "metadata": {},
   "source": [
    "In the cell below, use the list of strings to create a grocery list. Start the list with the string `Grocery list: ` and include a comma and a space between each item except for the last one. Include a period at the end. Only include foods in the list that start with the letter 'b' and ensure all foods are lower case."
   ]
  },
  {
   "cell_type": "code",
   "execution_count": 8,
   "metadata": {},
   "outputs": [
    {
     "data": {
      "text/plain": [
       "['Grosary list:', 'Bananas', 'bread', 'Brownie Mix', 'broccoli']"
      ]
     },
     "execution_count": 8,
     "metadata": {},
     "output_type": "execute_result"
    }
   ],
   "source": [
    "food_list = ['Bananas', 'Chocolate', 'bread', 'diapers', 'Ice Cream', 'Brownie Mix', 'broccoli']\n",
    "# Your code here:\n",
    "gl=[\"Grosary list:\"]\n",
    "for i in food_list:\n",
    "    if i.startswith(\"B\") or i.startswith(\"b\"):\n",
    "        gl.append(i)\n",
    "\n",
    "gl\n"
   ]
  },
  {
   "cell_type": "markdown",
   "metadata": {},
   "source": [
    "### Splitting Strings\n",
    "\n",
    "We have first looked at combining strings into one long string. There are times where we need to do the opposite and split the string into smaller components for further analysis. \n",
    "\n",
    "In the cell below, split the string into a list of strings using the space delimiter. Count the frequency of each word in the string in a dictionary. Strip the periods, line breaks and commas from the text. Make sure to remove empty strings from your dictionary."
   ]
  },
  {
   "cell_type": "code",
   "execution_count": 9,
   "metadata": {},
   "outputs": [
    {
     "data": {
      "text/plain": [
       "['Some say the world will end in fire',\n",
       " '\\nSome say in ice.\\nFrom what I’ve tasted of desire\\nI hold with those who favor fire.\\nBut if it had to perish twice',\n",
       " '\\nI think I know enough of hate\\nTo say that for destruction ice\\nIs also great\\nAnd would suffice.']"
      ]
     },
     "execution_count": 9,
     "metadata": {},
     "output_type": "execute_result"
    }
   ],
   "source": [
    "poem = \"\"\"Some say the world will end in fire,\n",
    "Some say in ice.\n",
    "From what I’ve tasted of desire\n",
    "I hold with those who favor fire.\n",
    "But if it had to perish twice,\n",
    "I think I know enough of hate\n",
    "To say that for destruction ice\n",
    "Is also great\n",
    "And would suffice.\"\"\"\n",
    "\n",
    "# Your code here:\n",
    "\n",
    "poem.split(\",\")"
   ]
  },
  {
   "cell_type": "code",
   "execution_count": null,
   "metadata": {},
   "outputs": [],
   "source": []
  }
 ],
 "metadata": {
  "kernelspec": {
   "display_name": "Python 3",
   "language": "python",
   "name": "python3"
  },
  "language_info": {
   "codemirror_mode": {
    "name": "ipython",
    "version": 3
   },
   "file_extension": ".py",
   "mimetype": "text/x-python",
   "name": "python",
   "nbconvert_exporter": "python",
   "pygments_lexer": "ipython3",
   "version": "3.12.5"
  },
  "varInspector": {
   "cols": {
    "lenName": 16,
    "lenType": 16,
    "lenVar": 40
   },
   "kernels_config": {
    "python": {
     "delete_cmd_postfix": "",
     "delete_cmd_prefix": "del ",
     "library": "var_list.py",
     "varRefreshCmd": "print(var_dic_list())"
    },
    "r": {
     "delete_cmd_postfix": ") ",
     "delete_cmd_prefix": "rm(",
     "library": "var_list.r",
     "varRefreshCmd": "cat(var_dic_list()) "
    }
   },
   "types_to_exclude": [
    "module",
    "function",
    "builtin_function_or_method",
    "instance",
    "_Feature"
   ],
   "window_display": false
  }
 },
 "nbformat": 4,
 "nbformat_minor": 4
}
