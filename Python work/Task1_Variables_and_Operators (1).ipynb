{
  "cells": [
    {
      "cell_type": "markdown",
      "metadata": {
        "id": "cv_Fhgw93Ns6"
      },
      "source": [
        "Answer each question by doing some operations with Python. Put conclusion in the comments"
      ]
    },
    {
      "cell_type": "markdown",
      "metadata": {
        "id": "jpb5_rvZiMrg"
      },
      "source": [
        "1.1 For the following variables, use the function type() from Python to check the data type for the variables."
      ]
    },
    {
      "cell_type": "code",
      "execution_count": 1,
      "metadata": {
        "id": "n_OE28mlhHr4"
      },
      "outputs": [],
      "source": [
        "x1 = 1.1\n",
        "x2 = \"Monday\"\n",
        "x3 = \"1.1\"\n",
        "x4 = True\n",
        "x5 = \"True\"\n",
        "x6 = -1"
      ]
    },
    {
      "cell_type": "markdown",
      "metadata": {
        "id": "myLT2Hq_hbN2"
      },
      "source": [
        "1.2 What is the difference between variables x1 and x3?"
      ]
    },
    {
      "cell_type": "code",
      "execution_count": 2,
      "metadata": {
        "colab": {
          "base_uri": "https://localhost:8080/"
        },
        "id": "kWFnsC8EhTEH",
        "outputId": "dad24c9f-691b-4716-b8ed-a57a7123255c"
      },
      "outputs": [
        {
          "data": {
            "text/plain": [
              "float"
            ]
          },
          "execution_count": 2,
          "metadata": {},
          "output_type": "execute_result"
        }
      ],
      "source": [
        "# type(x1)\n",
        "type(x1)"
      ]
    },
    {
      "cell_type": "code",
      "execution_count": 3,
      "metadata": {
        "colab": {
          "base_uri": "https://localhost:8080/"
        },
        "id": "c19WZD4Fh6Ea",
        "outputId": "f19ae6cb-87c2-4b50-f773-c331ac0a8b90"
      },
      "outputs": [
        {
          "data": {
            "text/plain": [
              "str"
            ]
          },
          "execution_count": 3,
          "metadata": {},
          "output_type": "execute_result"
        }
      ],
      "source": [
        "type(x2)"
      ]
    },
    {
      "cell_type": "markdown",
      "metadata": {
        "id": "XCAcLsbGiC7Z"
      },
      "source": [
        "1.3 What happens if you subtract x3 from x1?"
      ]
    },
    {
      "cell_type": "code",
      "execution_count": 4,
      "metadata": {
        "colab": {
          "base_uri": "https://localhost:8080/",
          "height": 217
        },
        "id": "VotvglskNG3o",
        "outputId": "906114e3-380f-4629-b6ec-aba0f6f7e87c"
      },
      "outputs": [
        {
          "ename": "TypeError",
          "evalue": "unsupported operand type(s) for -: 'str' and 'float'",
          "output_type": "error",
          "traceback": [
            "\u001b[31m---------------------------------------------------------------------------\u001b[39m",
            "\u001b[31mTypeError\u001b[39m                                 Traceback (most recent call last)",
            "\u001b[36mCell\u001b[39m\u001b[36m \u001b[39m\u001b[32mIn[4]\u001b[39m\u001b[32m, line 1\u001b[39m\n\u001b[32m----> \u001b[39m\u001b[32m1\u001b[39m x7=\u001b[43mx3\u001b[49m\u001b[43m-\u001b[49m\u001b[43mx1\u001b[49m\n\u001b[32m      2\u001b[39m x7\n",
            "\u001b[31mTypeError\u001b[39m: unsupported operand type(s) for -: 'str' and 'float'"
          ]
        }
      ],
      "source": [
        "x7=x3-x1\n",
        "x7"
      ]
    },
    {
      "cell_type": "markdown",
      "metadata": {
        "id": "y8Pj77kFNcYx"
      },
      "source": [
        "1.4 What is the difference between variables x4 and x5?"
      ]
    },
    {
      "cell_type": "code",
      "execution_count": null,
      "metadata": {
        "colab": {
          "base_uri": "https://localhost:8080/"
        },
        "id": "kS0gIFYgNaB5",
        "outputId": "51ceaf45-ba20-4a93-d3f2-07557b9bdc3b"
      },
      "outputs": [
        {
          "data": {
            "text/plain": [
              "bool"
            ]
          },
          "execution_count": 9,
          "metadata": {},
          "output_type": "execute_result"
        }
      ],
      "source": [
        "type(x4)"
      ]
    },
    {
      "cell_type": "code",
      "execution_count": null,
      "metadata": {
        "colab": {
          "base_uri": "https://localhost:8080/"
        },
        "id": "aOgv5G75gJHR",
        "outputId": "96ef1f99-b8c6-49aa-9d80-1670b54e0e7a"
      },
      "outputs": [
        {
          "data": {
            "text/plain": [
              "str"
            ]
          },
          "execution_count": 10,
          "metadata": {},
          "output_type": "execute_result"
        }
      ],
      "source": [
        "type(x5)"
      ]
    },
    {
      "cell_type": "markdown",
      "metadata": {
        "id": "pTdnO9sMgX5v"
      },
      "source": [
        "1.5 What happens if you subtract x5 from x4?"
      ]
    },
    {
      "cell_type": "code",
      "execution_count": 1,
      "metadata": {
        "colab": {
          "base_uri": "https://localhost:8080/",
          "height": 183
        },
        "id": "sjwJ79qMgaTP",
        "outputId": "00c554b3-1909-48a7-9c11-a32ef68414fc"
      },
      "outputs": [
        {
          "ename": "NameError",
          "evalue": "name 'x5' is not defined",
          "output_type": "error",
          "traceback": [
            "\u001b[31m---------------------------------------------------------------------------\u001b[39m",
            "\u001b[31mNameError\u001b[39m                                 Traceback (most recent call last)",
            "\u001b[36mCell\u001b[39m\u001b[36m \u001b[39m\u001b[32mIn[1]\u001b[39m\u001b[32m, line 1\u001b[39m\n\u001b[32m----> \u001b[39m\u001b[32m1\u001b[39m a=\u001b[43mx5\u001b[49m-x4\n\u001b[32m      2\u001b[39m \u001b[38;5;28mprint\u001b[39m(a)\n",
            "\u001b[31mNameError\u001b[39m: name 'x5' is not defined"
          ]
        }
      ],
      "source": [
        "a=x5-x4\n",
        "print(a)"
      ]
    },
    {
      "cell_type": "markdown",
      "metadata": {
        "id": "Y-o6hAK6hMxf"
      },
      "source": [
        "2.1 To gather input from the user, we can use the function input(message), where “message” is a meaningful message of type str and will be displayed to the user."
      ]
    },
    {
      "cell_type": "code",
      "execution_count": 2,
      "metadata": {},
      "outputs": [],
      "source": [
        "num = input ('Enter number :')\n",
        "print(num)\n"
      ]
    },
    {
      "cell_type": "markdown",
      "metadata": {
        "id": "M0Q6QAhYiBfM"
      },
      "source": [
        "Question 1: Print the values of the two variables? As you might have noticed, data type of x1 and x2 is string. Even though we entered integers, the input function converts them into string by default. Now we do some data type conversion from string to integers:"
      ]
    },
    {
      "cell_type": "code",
      "execution_count": null,
      "metadata": {
        "id": "wFCOxdpDiDoL"
      },
      "outputs": [],
      "source": []
    },
    {
      "cell_type": "markdown",
      "metadata": {
        "id": "QfPlBSqSibky"
      },
      "source": [
        "Question 2: What is the data type of x1 and x2? Now perform simple comparisons between x1 and x2:\n",
        "\n",
        "Check if the two variables are equal?\n",
        "\n",
        "Check if x1 is greater than x2?\n",
        "\n",
        "Check if x2 is greater than x1?\n",
        "\n",
        "Check if x1 is not equal to x2?\n",
        "\n",
        "Store the difference between the two variables x1 and x2 in another variable x3 (subtract the smaller number from the larger number).\n",
        "\n",
        "Increment the smaller of the two variables (x1 and x2) with the difference.Use the shorthand addition operator for the same. Again check if x1 and x2 are equal or not?"
      ]
    },
    {
      "cell_type": "code",
      "execution_count": null,
      "metadata": {
        "colab": {
          "base_uri": "https://localhost:8080/"
        },
        "id": "vuWxpve4idyU",
        "outputId": "320ab4f2-a4b5-4bd7-8731-9848029c0b96"
      },
      "outputs": [
        {
          "data": {
            "text/plain": [
              "int"
            ]
          },
          "execution_count": 11,
          "metadata": {},
          "output_type": "execute_result"
        }
      ],
      "source": []
    },
    {
      "cell_type": "code",
      "execution_count": null,
      "metadata": {
        "colab": {
          "base_uri": "https://localhost:8080/"
        },
        "id": "t_tB0bceioi8",
        "outputId": "6b6dfd90-86b9-4af9-d605-a0a0e5248acb"
      },
      "outputs": [
        {
          "data": {
            "text/plain": [
              "int"
            ]
          },
          "execution_count": 12,
          "metadata": {},
          "output_type": "execute_result"
        }
      ],
      "source": []
    },
    {
      "cell_type": "code",
      "execution_count": null,
      "metadata": {
        "colab": {
          "base_uri": "https://localhost:8080/"
        },
        "id": "FnIfSX_IjjKD",
        "outputId": "60025fa3-f0f5-41c3-e373-de127d97de7d"
      },
      "outputs": [
        {
          "data": {
            "text/plain": [
              "False"
            ]
          },
          "execution_count": 13,
          "metadata": {},
          "output_type": "execute_result"
        }
      ],
      "source": []
    },
    {
      "cell_type": "code",
      "execution_count": null,
      "metadata": {
        "colab": {
          "base_uri": "https://localhost:8080/"
        },
        "id": "dSZmA-rWkNKM",
        "outputId": "68200d60-f0fa-4b3f-b14d-623898b42446"
      },
      "outputs": [
        {
          "data": {
            "text/plain": [
              "False"
            ]
          },
          "execution_count": 15,
          "metadata": {},
          "output_type": "execute_result"
        }
      ],
      "source": []
    },
    {
      "cell_type": "code",
      "execution_count": null,
      "metadata": {
        "colab": {
          "base_uri": "https://localhost:8080/"
        },
        "id": "kPVA_vMkkSlY",
        "outputId": "4da4cd12-26f5-4136-d77c-59d1c51e32bf"
      },
      "outputs": [
        {
          "data": {
            "text/plain": [
              "True"
            ]
          },
          "execution_count": 16,
          "metadata": {},
          "output_type": "execute_result"
        }
      ],
      "source": []
    },
    {
      "cell_type": "code",
      "execution_count": null,
      "metadata": {
        "colab": {
          "base_uri": "https://localhost:8080/"
        },
        "id": "7P37YpvtkaUd",
        "outputId": "4398dfd9-2018-4887-9809-383ed39f9725"
      },
      "outputs": [
        {
          "data": {
            "text/plain": [
              "True"
            ]
          },
          "execution_count": 17,
          "metadata": {},
          "output_type": "execute_result"
        }
      ],
      "source": []
    },
    {
      "cell_type": "code",
      "execution_count": null,
      "metadata": {
        "colab": {
          "base_uri": "https://localhost:8080/"
        },
        "id": "eLtx18hboWD6",
        "outputId": "ae4a88ff-2d31-4dc7-d01b-17798d46b199"
      },
      "outputs": [
        {
          "name": "stdout",
          "output_type": "stream",
          "text": [
            "1\n"
          ]
        }
      ],
      "source": []
    },
    {
      "cell_type": "code",
      "execution_count": null,
      "metadata": {
        "colab": {
          "base_uri": "https://localhost:8080/"
        },
        "id": "7lS6ZsNZox7O",
        "outputId": "bb2579cd-420d-448a-8d77-6ee57b31b04d"
      },
      "outputs": [
        {
          "name": "stdout",
          "output_type": "stream",
          "text": [
            "3\n"
          ]
        },
        {
          "data": {
            "text/plain": [
              "False"
            ]
          },
          "execution_count": 21,
          "metadata": {},
          "output_type": "execute_result"
        }
      ],
      "source": []
    }
  ],
  "metadata": {
    "colab": {
      "provenance": []
    },
    "kernelspec": {
      "display_name": "Python 3",
      "name": "python3"
    },
    "language_info": {
      "codemirror_mode": {
        "name": "ipython",
        "version": 3
      },
      "file_extension": ".py",
      "mimetype": "text/x-python",
      "name": "python",
      "nbconvert_exporter": "python",
      "pygments_lexer": "ipython3",
      "version": "3.12.5"
    }
  },
  "nbformat": 4,
  "nbformat_minor": 0
}
