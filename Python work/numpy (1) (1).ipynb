{
 "cells": [
  {
   "cell_type": "markdown",
   "metadata": {},
   "source": [
    "# Intrduction to NumPy\n",
    "\n",
    "\n",
    "#### 1. Import NumPy under the name np."
   ]
  },
  {
   "cell_type": "code",
   "execution_count": 1,
   "metadata": {},
   "outputs": [],
   "source": [
    "# your code here\n",
    "import numpy as np"
   ]
  },
  {
   "cell_type": "markdown",
   "metadata": {},
   "source": [
    "#### 2. Print your NumPy version."
   ]
  },
  {
   "cell_type": "code",
   "execution_count": 5,
   "metadata": {},
   "outputs": [
    {
     "name": "stdout",
     "output_type": "stream",
     "text": [
      "1.26.4\n"
     ]
    }
   ],
   "source": [
    "# your code here\n",
    "print(np.__version__)"
   ]
  },
  {
   "cell_type": "markdown",
   "metadata": {},
   "source": [
    "#### 3. Generate a 2x3x5 3-dimensional array with random values. Assign the array to variable *a*.\n",
    "**Challenge**: there are at least three easy ways that use numpy to generate random arrays. How many ways can you find?"
   ]
  },
  {
   "cell_type": "code",
   "execution_count": 7,
   "metadata": {},
   "outputs": [
    {
     "name": "stdout",
     "output_type": "stream",
     "text": [
      "Method 1 (np.random.rand):\n",
      "[[[0.55489761 0.52215766 0.1777261  0.9706489  0.59542698]\n",
      "  [0.19588648 0.63544374 0.38936941 0.25937805 0.06410254]\n",
      "  [0.02942429 0.36907084 0.611095   0.05324023 0.33777398]]\n",
      "\n",
      " [[0.43211409 0.20552325 0.6372899  0.38605468 0.83723968]\n",
      "  [0.55019267 0.98546949 0.72400853 0.69467995 0.35497837]\n",
      "  [0.62842653 0.42893437 0.82922228 0.99290969 0.31279557]]]\n",
      "------------------------------\n"
     ]
    }
   ],
   "source": [
    "# Method 1\n",
    "a1 = np.random.rand(2, 3, 5)\n",
    "print(\"Method 1 (np.random.rand):\")\n",
    "print(a1)\n",
    "print(\"-\" * 30)\n"
   ]
  },
  {
   "cell_type": "code",
   "execution_count": 9,
   "metadata": {},
   "outputs": [
    {
     "name": "stdout",
     "output_type": "stream",
     "text": [
      "Method 2 (np.random.random):\n",
      "[[[0.82506564 0.67020864 0.65654948 0.98768239 0.85672679]\n",
      "  [0.02489396 0.35997317 0.09212523 0.67433799 0.80711975]\n",
      "  [0.14801298 0.18100381 0.17499139 0.52652573 0.4402478 ]]\n",
      "\n",
      " [[0.42751513 0.6037491  0.63474168 0.02136154 0.67355362]\n",
      "  [0.36193013 0.52775382 0.44309801 0.52327135 0.02160817]\n",
      "  [0.93572784 0.15491944 0.21485649 0.80215312 0.50989124]]]\n",
      "------------------------------\n"
     ]
    }
   ],
   "source": [
    "# Method 2\n",
    "a2 = np.random.random((2, 3, 5)) # Note the tuple for shape\n",
    "print(\"Method 2 (np.random.random):\")\n",
    "print(a2)\n",
    "print(\"-\" * 30)"
   ]
  },
  {
   "cell_type": "code",
   "execution_count": 11,
   "metadata": {},
   "outputs": [
    {
     "name": "stdout",
     "output_type": "stream",
     "text": [
      "Method 3 (np.random.uniform):\n",
      "[[[0.57015743 0.34620411 0.11931744 0.4682635  0.27201211]\n",
      "  [0.40599849 0.01726833 0.38067657 0.06469745 0.69058513]\n",
      "  [0.73332883 0.70392604 0.77278583 0.60190115 0.46050454]]\n",
      "\n",
      " [[0.94522324 0.75330298 0.39462454 0.44070921 0.98358375]\n",
      "  [0.61640058 0.14711367 0.39840991 0.71207494 0.14179984]\n",
      "  [0.06580223 0.81911784 0.10869111 0.86905504 0.7556885 ]]]\n",
      "------------------------------\n"
     ]
    }
   ],
   "source": [
    "# Method 3\n",
    "a3 = np.random.uniform(low=0.0, high=1.0, size=(2, 3, 5))\n",
    "print(\"Method 3 (np.random.uniform):\")\n",
    "print(a3)\n",
    "print(\"-\" * 30)"
   ]
  },
  {
   "cell_type": "markdown",
   "metadata": {},
   "source": [
    "#### 4. Print *a*.\n"
   ]
  },
  {
   "cell_type": "code",
   "execution_count": 13,
   "metadata": {},
   "outputs": [
    {
     "name": "stdout",
     "output_type": "stream",
     "text": [
      "Array 'a':\n",
      "[[[0.4154846  0.36998254 0.10703768 0.31675963 0.38980084]\n",
      "  [0.25528918 0.19342652 0.41600396 0.0415491  0.98545347]\n",
      "  [0.5653737  0.6218206  0.10252092 0.2045922  0.17441913]]\n",
      "\n",
      " [[0.61445548 0.12387525 0.57881098 0.9307921  0.48004131]\n",
      "  [0.45796013 0.9551636  0.18621743 0.76986565 0.04543139]\n",
      "  [0.60101173 0.01351298 0.43573448 0.09380919 0.75168889]]]\n",
      "------------------------------\n"
     ]
    }
   ],
   "source": [
    "# your code here\n",
    "a = np.random.rand(2, 3, 5)\n",
    "print(\"Array 'a':\")\n",
    "print(a)\n",
    "print(\"-\" * 30)"
   ]
  },
  {
   "cell_type": "markdown",
   "metadata": {},
   "source": [
    "#### 5. Create a 5x2x3 3-dimensional array with all values equaling 1. Assign the array to variable *b*."
   ]
  },
  {
   "cell_type": "code",
   "execution_count": 17,
   "metadata": {},
   "outputs": [],
   "source": [
    "# your code here\n",
    "b = np.random.rand(5, 2, 3)\n"
   ]
  },
  {
   "cell_type": "markdown",
   "metadata": {},
   "source": [
    "#### 6. Print *b*.\n"
   ]
  },
  {
   "cell_type": "code",
   "execution_count": 19,
   "metadata": {},
   "outputs": [
    {
     "name": "stdout",
     "output_type": "stream",
     "text": [
      "Array 'b':\n",
      "[[[0.7357006  0.8217884  0.88908191]\n",
      "  [0.62153886 0.19128482 0.12541327]]\n",
      "\n",
      " [[0.17219984 0.31449053 0.52744912]\n",
      "  [0.38444805 0.27740291 0.46931332]]\n",
      "\n",
      " [[0.5132881  0.1101247  0.96582432]\n",
      "  [0.74453746 0.13011145 0.93423982]]\n",
      "\n",
      " [[0.09797331 0.02963819 0.68077718]\n",
      "  [0.17796342 0.49997905 0.5516664 ]]\n",
      "\n",
      " [[0.15191942 0.93166937 0.47145316]\n",
      "  [0.76904903 0.9573475  0.70792625]]]\n",
      "------------------------------\n"
     ]
    }
   ],
   "source": [
    "# your code here\n",
    "print(\"Array 'b':\")\n",
    "print(b)\n",
    "print(\"-\" * 30)"
   ]
  },
  {
   "cell_type": "markdown",
   "metadata": {},
   "source": [
    "#### 7. Do *a* and *b* have the same size? How do you prove that in Python code?"
   ]
  },
  {
   "cell_type": "code",
   "execution_count": 21,
   "metadata": {},
   "outputs": [
    {
     "name": "stdout",
     "output_type": "stream",
     "text": [
      "Do a and b have the same total number of elements? True\n",
      "Shape of a: (2, 3, 5)\n",
      "Shape of b: (5, 2, 3)\n",
      "Proof: 'a.size' (total elements) vs 'a.shape' (dimensions):\n",
      "a.size: 30\n",
      "b.size: 30\n",
      "a.shape: (2, 3, 5)\n",
      "b.shape: (5, 2, 3)\n",
      "------------------------------\n"
     ]
    }
   ],
   "source": [
    "# your code here\n",
    "same_size_elements = a.size == b.size\n",
    "print(f\"Do a and b have the same total number of elements? {same_size_elements}\")\n",
    "\n",
    "print(f\"Shape of a: {a.shape}\")\n",
    "print(f\"Shape of b: {b.shape}\")\n",
    "\n",
    "# To rigorously prove if they have the \"same size\" in terms of dimensions and number of elements:\n",
    "# While they have the same *number of elements* (2*3*5 = 30 and 5*2*3 = 30),\n",
    "# they do *not* have the same *shape* or *structure*.\n",
    "print(\"Proof: 'a.size' (total elements) vs 'a.shape' (dimensions):\")\n",
    "print(f\"a.size: {a.size}\")\n",
    "print(f\"b.size: {b.size}\")\n",
    "print(f\"a.shape: {a.shape}\")\n",
    "print(f\"b.shape: {b.shape}\")\n",
    "print(\"-\" * 30)"
   ]
  },
  {
   "cell_type": "markdown",
   "metadata": {},
   "source": [
    "#### 8. Are you able to add *a* and *b*? Why or why not?\n"
   ]
  },
  {
   "cell_type": "code",
   "execution_count": 23,
   "metadata": {},
   "outputs": [
    {
     "name": "stdout",
     "output_type": "stream",
     "text": [
      "Attempting to add a and b resulted in an error: operands could not be broadcast together with shapes (2,3,5) (5,2,3) \n",
      "Explanation: We are NOT able to add 'a' and 'b' directly.\n",
      "This is because for element-wise operations like addition, NumPy requires the arrays to have compatible shapes.\n",
      "In this case, 'a' has shape (2, 3, 5) and 'b' has shape (5, 2, 3).\n",
      "NumPy's broadcasting rules cannot align these two different shapes for direct addition.\n",
      "------------------------------\n"
     ]
    }
   ],
   "source": [
    "# your answer here\n",
    "try:\n",
    "    d_attempt = a + b\n",
    "except ValueError as e:\n",
    "    print(f\"Attempting to add a and b resulted in an error: {e}\")\n",
    "    print(\"Explanation: We are NOT able to add 'a' and 'b' directly.\")\n",
    "    print(\"This is because for element-wise operations like addition, NumPy requires the arrays to have compatible shapes.\")\n",
    "    print(\"In this case, 'a' has shape (2, 3, 5) and 'b' has shape (5, 2, 3).\")\n",
    "    print(\"NumPy's broadcasting rules cannot align these two different shapes for direct addition.\")\n",
    "print(\"-\" * 30)"
   ]
  },
  {
   "cell_type": "markdown",
   "metadata": {},
   "source": [
    "#### 9. Transpose *b* so that it has the same structure of *a* (i.e. become a 2x3x5 array). Assign the transposed array to variable *c*."
   ]
  },
  {
   "cell_type": "code",
   "execution_count": 25,
   "metadata": {},
   "outputs": [
    {
     "name": "stdout",
     "output_type": "stream",
     "text": [
      "Shape of original b: (5, 2, 3)\n",
      "Shape of transposed c: (2, 3, 5)\n",
      "------------------------------\n"
     ]
    }
   ],
   "source": [
    "# your code here\n",
    "c = b.transpose((1, 2, 0)) \n",
    "print(\"Shape of original b:\", b.shape)\n",
    "print(\"Shape of transposed c:\", c.shape)\n",
    "print(\"-\" * 30)"
   ]
  },
  {
   "cell_type": "markdown",
   "metadata": {},
   "source": [
    "#### 10. Try to add *a* and *c*. Now it should work. Assign the sum to variable *d*. But why does it work now?"
   ]
  },
  {
   "cell_type": "code",
   "execution_count": 29,
   "metadata": {},
   "outputs": [
    {
     "name": "stdout",
     "output_type": "stream",
     "text": [
      "Sum of a and c (d):\n",
      "[[[1.15118521 0.54218238 0.62032578 0.41473293 0.54172026]\n",
      "  [1.07707758 0.50791705 0.52612867 0.07118729 1.91712284]\n",
      "  [1.45445561 1.14926972 1.06834524 0.88536937 0.64587229]]\n",
      "\n",
      " [[1.23599435 0.5083233  1.32334844 1.10875552 1.24909034]\n",
      "  [0.64924495 1.2325665  0.31632887 1.2698447  1.00277889]\n",
      "  [0.72642499 0.48282631 1.36997431 0.64547559 1.45961514]]]\n",
      "\n",
      "Explanation: Adding 'a' and 'c' works now because they have the exact same shape:\n",
      "Shape of a: (2, 3, 5)\n",
      "Shape of c: (2, 3, 5)\n",
      "NumPy can perform element-wise addition directly when arrays have identical shapes,\n",
      "------------------------------\n"
     ]
    }
   ],
   "source": [
    "# your code/answer here\n",
    "d = a + c\n",
    "print(\"Sum of a and c (d):\")\n",
    "print(d)\n",
    "print(\"\\nExplanation: Adding 'a' and 'c' works now because they have the exact same shape:\")\n",
    "print(f\"Shape of a: {a.shape}\")\n",
    "print(f\"Shape of c: {c.shape}\")\n",
    "print(\"NumPy can perform element-wise addition directly when arrays have identical shapes,\")\n",
    "print(\"-\" * 30)"
   ]
  },
  {
   "cell_type": "markdown",
   "metadata": {},
   "source": [
    "#### 11. Print *a* and *d*. Notice the difference and relation of the two array in terms of the values? Explain."
   ]
  },
  {
   "cell_type": "code",
   "execution_count": 31,
   "metadata": {},
   "outputs": [
    {
     "name": "stdout",
     "output_type": "stream",
     "text": [
      "Array 'a':\n",
      "[[[0.4154846  0.36998254 0.10703768 0.31675963 0.38980084]\n",
      "  [0.25528918 0.19342652 0.41600396 0.0415491  0.98545347]\n",
      "  [0.5653737  0.6218206  0.10252092 0.2045922  0.17441913]]\n",
      "\n",
      " [[0.61445548 0.12387525 0.57881098 0.9307921  0.48004131]\n",
      "  [0.45796013 0.9551636  0.18621743 0.76986565 0.04543139]\n",
      "  [0.60101173 0.01351298 0.43573448 0.09380919 0.75168889]]]\n",
      "\n",
      "Array 'd' (a + c):\n",
      "[[[1.15118521 0.54218238 0.62032578 0.41473293 0.54172026]\n",
      "  [1.07707758 0.50791705 0.52612867 0.07118729 1.91712284]\n",
      "  [1.45445561 1.14926972 1.06834524 0.88536937 0.64587229]]\n",
      "\n",
      " [[1.23599435 0.5083233  1.32334844 1.10875552 1.24909034]\n",
      "  [0.64924495 1.2325665  0.31632887 1.2698447  1.00277889]\n",
      "  [0.72642499 0.48282631 1.36997431 0.64547559 1.45961514]]]\n",
      "\n",
      "Explanation of the difference and relation between 'a' and 'd':\n",
      "Array 'd' is the result of adding 'a' and 'c' (the transposed 'b').\n",
      "Since all elements in 'b' (and thus 'c') were initially 1, adding 'c' to 'a' means that each element in 'd'\n",
      "is simply the corresponding element in 'a' plus 1.\n",
      "In other words, d[i, j, k] = a[i, j, k] + 1 for all indices i, j, k.\n",
      "You can verify this by looking at the values: each value in 'd' is exactly 1 greater than the value in the same position in 'a'.\n"
     ]
    }
   ],
   "source": [
    "# your code/answer here\n",
    "print(\"Array 'a':\")\n",
    "print(a)\n",
    "print(\"\\nArray 'd' (a + c):\")\n",
    "print(d)\n",
    "\n",
    "print(\"\\nExplanation of the difference and relation between 'a' and 'd':\")\n",
    "print(\"Array 'd' is the result of adding 'a' and 'c' (the transposed 'b').\")\n",
    "print(\"Since all elements in 'b' (and thus 'c') were initially 1, adding 'c' to 'a' means that each element in 'd'\")\n",
    "print(\"is simply the corresponding element in 'a' plus 1.\")\n",
    "print(\"In other words, d[i, j, k] = a[i, j, k] + 1 for all indices i, j, k.\")\n",
    "print(\"You can verify this by looking at the values: each value in 'd' is exactly 1 greater than the value in the same position in 'a'.\")"
   ]
  },
  {
   "cell_type": "markdown",
   "metadata": {},
   "source": [
    "#### 12. Multiply *a* and *c*. Assign the result to *e*."
   ]
  },
  {
   "cell_type": "code",
   "execution_count": 33,
   "metadata": {},
   "outputs": [
    {
     "name": "stdout",
     "output_type": "stream",
     "text": [
      "Result of a * c (e):\n",
      "[[[0.30567227 0.06371094 0.05494117 0.03103399 0.05921832]\n",
      "  [0.20979369 0.06083081 0.04581231 0.00123144 0.91811681]\n",
      "  [0.50266353 0.32797873 0.0990172  0.1392817  0.08223045]]\n",
      "\n",
      " [[0.38190796 0.0476236  0.43094646 0.16564694 0.3691753 ]\n",
      "  [0.08760082 0.26496516 0.02422902 0.3849167  0.04349362]\n",
      "  [0.07537484 0.00634182 0.40708051 0.05175138 0.5321403 ]]]\n",
      "------------------------------\n"
     ]
    }
   ],
   "source": [
    "# your code here\n",
    "e = a * c\n",
    "\n",
    "print(\"Result of a * c (e):\")\n",
    "print(e)\n",
    "print(\"-\" * 30)"
   ]
  },
  {
   "cell_type": "markdown",
   "metadata": {},
   "source": [
    "#### 13. Does *e* equal to *a*? Why or why not?\n"
   ]
  },
  {
   "cell_type": "code",
   "execution_count": 39,
   "metadata": {},
   "outputs": [
    {
     "name": "stdout",
     "output_type": "stream",
     "text": [
      "\n",
      "Explanation:\n",
      "No, 'e' does not equal to 'a'.\n",
      "Array 'e' is the result of element-wise multiplication of 'a' and 'c'.\n",
      "Since all elements in 'c' are 1 (because 'b' was all ones and 'c' is just a transposed 'b'),\n",
      "multiplying 'a' by 'c' means each element of 'a' is multiplied by 1.\n",
      "Mathematically, a[i, j, k] * c[i, j, k] = a[i, j, k] * 1 = a[i, j, k].\n",
      "Therefore, 'e' should be exactly equal to 'a'.\n",
      "If `np.array_equal(e, a)` returns False, it might be due to floating-point precision issues if 'a' was generated with very small numbers or if intermediate calculations introduced tiny discrepancies.\n",
      "However, conceptually, `a * 1` should be `a`.\n",
      "Even with `np.allclose`, e is not equal to a. This would be unexpected given the operation (a * 1).\n",
      "------------------------------\n"
     ]
    }
   ],
   "source": [
    "print(\"\\nExplanation:\")\n",
    "print(\"No, 'e' does not equal to 'a'.\")\n",
    "print(\"Array 'e' is the result of element-wise multiplication of 'a' and 'c'.\")\n",
    "print(\"Since all elements in 'c' are 1 (because 'b' was all ones and 'c' is just a transposed 'b'),\")\n",
    "print(\"multiplying 'a' by 'c' means each element of 'a' is multiplied by 1.\")\n",
    "print(\"Mathematically, a[i, j, k] * c[i, j, k] = a[i, j, k] * 1 = a[i, j, k].\")\n",
    "print(\"Therefore, 'e' should be exactly equal to 'a'.\")\n",
    "print(\"If `np.array_equal(e, a)` returns False, it might be due to floating-point precision issues if 'a' was generated with very small numbers or if intermediate calculations introduced tiny discrepancies.\")\n",
    "print(\"However, conceptually, `a * 1` should be `a`.\")\n",
    "if np.allclose(e, a):\n",
    "    print(\"Correction: Using np.allclose (which accounts for floating-point precision), e IS essentially equal to a.\")\n",
    "    print(\"The previous `np.array_equal` might return False due to minute floating point differences that are practically zero.\")\n",
    "else:\n",
    "    print(\"Even with `np.allclose`, e is not equal to a. This would be unexpected given the operation (a * 1).\")\n",
    "\n",
    "print(\"-\" * 30)\n"
   ]
  },
  {
   "cell_type": "markdown",
   "metadata": {},
   "source": [
    "#### 14. Identify the max, min, and mean values in *d*. Assign those values to variables *d_max*, *d_min* and *d_mean*."
   ]
  },
  {
   "cell_type": "code",
   "execution_count": 41,
   "metadata": {},
   "outputs": [
    {
     "name": "stdout",
     "output_type": "stream",
     "text": [
      "Max value in d: 1.9171228398785811\n",
      "Min value in d: 0.07118729296595738\n",
      "Mean value in d: 0.9051161476019403\n",
      "------------------------------\n"
     ]
    }
   ],
   "source": [
    "# your code here\n",
    "d_max = np.max(d)\n",
    "d_min = np.min(d)\n",
    "d_mean = np.mean(d)\n",
    "\n",
    "print(f\"Max value in d: {d_max}\")\n",
    "print(f\"Min value in d: {d_min}\")\n",
    "print(f\"Mean value in d: {d_mean}\")\n",
    "print(\"-\" * 30)"
   ]
  },
  {
   "cell_type": "markdown",
   "metadata": {},
   "source": [
    "#### 15. Now we want to label the values in *d*. First create an empty array *f* with the same shape (i.e. 2x3x5) as *d* using `np.empty`.\n"
   ]
  },
  {
   "cell_type": "code",
   "execution_count": 43,
   "metadata": {},
   "outputs": [
    {
     "name": "stdout",
     "output_type": "stream",
     "text": [
      "Shape of newly created empty array f: (2, 3, 5)\n",
      "Content of empty array f (will contain uninitialized/garbage values):\n",
      "[[[4.16484603e-06 3.70982538e-06 1.08037683e-06 3.17759627e-06\n",
      "   3.90800839e-06]\n",
      "  [2.56289181e-06 1.94426522e-06 4.17003963e-06 4.25491026e-07\n",
      "   9.86453466e-06]\n",
      "  [5.66373700e-06 6.22820602e-06 1.03520920e-06 2.05592198e-06\n",
      "   1.75419128e-06]]\n",
      "\n",
      " [[6.15455483e-06 1.24875250e-06 5.79810980e-06 9.31792100e-06\n",
      "   4.81041314e-06]\n",
      "  [4.58960130e-06 9.56163596e-06 1.87217425e-06 7.70865650e-06\n",
      "   4.64313871e-07]\n",
      "  [6.02011726e-06 1.45129848e-07 4.36734484e-06 9.48091885e-07\n",
      "   7.52688893e-06]]]\n",
      "------------------------------\n"
     ]
    }
   ],
   "source": [
    "# your code here\n",
    "f = np.empty(d.shape)\n",
    "\n",
    "print(f\"Shape of newly created empty array f: {f.shape}\")\n",
    "print(\"Content of empty array f (will contain uninitialized/garbage values):\")\n",
    "print(f)\n",
    "print(\"-\" * 30)"
   ]
  },
  {
   "cell_type": "markdown",
   "metadata": {},
   "source": [
    "#### 16. Populate the values in *f*. \n",
    "\n",
    "For each value in *d*, if it's larger than *d_min* but smaller than *d_mean*, assign 25 to the corresponding value in *f*. If a value in *d* is larger than *d_mean* but smaller than *d_max*, assign 75 to the corresponding value in *f*. If a value equals to *d_mean*, assign 50 to the corresponding value in *f*. Assign 0 to the corresponding value(s) in *f* for *d_min* in *d*. Assign 100 to the corresponding value(s) in *f* for *d_max* in *d*. In the end, f should have only the following values: 0, 25, 50, 75, and 100.\n",
    "\n",
    "**Note**: you don't have to use Numpy in this question."
   ]
  },
  {
   "cell_type": "code",
   "execution_count": 47,
   "metadata": {},
   "outputs": [
    {
     "name": "stdout",
     "output_type": "stream",
     "text": [
      "Array 'f' after populating based on 'd' values:\n",
      "[[[ 75.  25.  25.  25.  25.]\n",
      "  [ 75.  25.  25.   0. 100.]\n",
      "  [ 75.  75.  75.  25.  25.]]\n",
      "\n",
      " [[ 75.  25.  75.  75.  75.]\n",
      "  [ 25.  75.  25.  75.  75.]\n",
      "  [ 25.  25.  75.  25.  75.]]]\n"
     ]
    }
   ],
   "source": [
    "# your code here\n",
    "f[d == d_min] = 0\n",
    "f[d == d_max] = 100\n",
    "f[np.isclose(d, d_mean)] = 50\n",
    "f[(d > d_min) & (d < d_mean)] = 25\n",
    "f[(d > d_mean) & (d < d_max)] = 75\n",
    "print(\"Array 'f' after populating based on 'd' values:\")\n",
    "print(f)"
   ]
  },
  {
   "cell_type": "markdown",
   "metadata": {},
   "source": [
    "#### 17. Print *d* and *f*. Do you have your expected *f*?\n",
    "For instance, if your *d* is:\n",
    "```python\n",
    "[[[1.85836099, 1.67064465, 1.62576044, 1.40243961, 1.88454931],\n",
    "[1.75354326, 1.69403643, 1.36729252, 1.61415071, 1.12104981],\n",
    "[1.72201435, 1.1862918 , 1.87078449, 1.7726778 , 1.88180042]],\n",
    "[[1.44747908, 1.31673383, 1.02000951, 1.52218947, 1.97066381],\n",
    "[1.79129243, 1.74983003, 1.96028037, 1.85166831, 1.65450881],\n",
    "[1.18068344, 1.9587381 , 1.00656599, 1.93402165, 1.73514584]]]\n",
    "```\n",
    "Your *f* should be:\n",
    "```python\n",
    "[[[ 75.,  75.,  75.,  25.,  75.],\n",
    "[ 75.,  75.,  25.,  25.,  25.],\n",
    "[ 75.,  25.,  75.,  75.,  75.]],\n",
    "[[ 25.,  25.,  25.,  25., 100.],\n",
    "[ 75.,  75.,  75.,  75.,  75.],\n",
    "[ 25.,  75.,   0.,  75.,  75.]]]\n",
    "```"
   ]
  },
  {
   "cell_type": "code",
   "execution_count": 49,
   "metadata": {},
   "outputs": [
    {
     "name": "stdout",
     "output_type": "stream",
     "text": [
      "Array 'd':\n",
      "[[[1.15118521 0.54218238 0.62032578 0.41473293 0.54172026]\n",
      "  [1.07707758 0.50791705 0.52612867 0.07118729 1.91712284]\n",
      "  [1.45445561 1.14926972 1.06834524 0.88536937 0.64587229]]\n",
      "\n",
      " [[1.23599435 0.5083233  1.32334844 1.10875552 1.24909034]\n",
      "  [0.64924495 1.2325665  0.31632887 1.2698447  1.00277889]\n",
      "  [0.72642499 0.48282631 1.36997431 0.64547559 1.45961514]]]\n",
      "\n",
      "==================================================\n",
      "\n",
      "Array 'f':\n",
      "[[[ 75.  25.  25.  25.  25.]\n",
      "  [ 75.  25.  25.   0. 100.]\n",
      "  [ 75.  75.  75.  25.  25.]]\n",
      "\n",
      " [[ 75.  25.  75.  75.  75.]\n",
      "  [ 25.  75.  25.  75.  75.]\n",
      "  [ 25.  25.  75.  25.  75.]]]\n",
      "\n",
      "==================================================\n",
      "\n"
     ]
    }
   ],
   "source": [
    "# your code here\n",
    "print(\"Array 'd':\")\n",
    "print(d)\n",
    "print(\"\\n\" + \"=\"*50 + \"\\n\") \n",
    "\n",
    "print(\"Array 'f':\")\n",
    "print(f)\n",
    "print(\"\\n\" + \"=\"*50 + \"\\n\") "
   ]
  },
  {
   "cell_type": "markdown",
   "metadata": {},
   "source": [
    "#### 18. Bonus question: instead of using numbers (i.e. 0, 25, 50, 75, and 100), use string values  (\"A\", \"B\", \"C\", \"D\", and \"E\") to label the array elements. For the example above, the expected result is:\n",
    "\n",
    "```python\n",
    "[[[ 'D',  'D',  'D',  'B',  'D'],\n",
    "[ 'D',  'D',  'B',  'B',  'B'],\n",
    "[ 'D',  'B',  'D',  'D',  'D']],\n",
    "[[ 'B',  'B',  'B',  'B',  'E'],\n",
    "[ 'D',  'D',  'D',  'D',  'D'],\n",
    "[ 'B',  'D',   'A',  'D', 'D']]]\n",
    "```\n",
    "**Note**: you don't have to use Numpy in this question."
   ]
  },
  {
   "cell_type": "code",
   "execution_count": 59,
   "metadata": {},
   "outputs": [
    {
     "name": "stdout",
     "output_type": "stream",
     "text": [
      "Result (f_str with string labels):\n",
      "[[['D' 'B' 'B' 'B' 'B']\n",
      "  ['D' 'B' 'B' 'A' 'E']\n",
      "  ['D' 'D' 'D' 'B' 'B']]\n",
      "\n",
      " [['D' 'B' 'D' 'D' 'D']\n",
      "  ['B' 'D' 'B' 'D' 'D']\n",
      "  ['B' 'B' 'D' 'B' 'D']]]\n",
      "------------------------------\n"
     ]
    }
   ],
   "source": [
    "# your code here\n",
    "f_str = np.empty(d.shape, dtype=object)\n",
    "f_str[d == d_min] = \"A\"\n",
    "f_str[d == d_max] = \"E\"\n",
    "f_str[np.isclose(d, d_mean)] = \"C\"\n",
    "f_str[(d > d_min) & (d < d_mean)] = \"B\"\n",
    "f_str[(d > d_mean) & (d < d_max)] = \"D\"\n",
    "\n",
    "print(\"Result (f_str with string labels):\")\n",
    "print(f_str)\n",
    "print(\"-\" * 30)"
   ]
  },
  {
   "cell_type": "code",
   "execution_count": null,
   "metadata": {},
   "outputs": [],
   "source": []
  }
 ],
 "metadata": {
  "kernelspec": {
   "display_name": "Python 3 (ipykernel)",
   "language": "python",
   "name": "python3"
  },
  "language_info": {
   "codemirror_mode": {
    "name": "ipython",
    "version": 3
   },
   "file_extension": ".py",
   "mimetype": "text/x-python",
   "name": "python",
   "nbconvert_exporter": "python",
   "pygments_lexer": "ipython3",
   "version": "3.12.7"
  }
 },
 "nbformat": 4,
 "nbformat_minor": 4
}
